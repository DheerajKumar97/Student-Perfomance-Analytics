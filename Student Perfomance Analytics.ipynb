{
 "cells": [
  {
   "cell_type": "markdown",
   "metadata": {},
   "source": [
    "<html><font size =\"6\"><b>&nbsp;&nbsp;&nbsp;&nbsp;&nbsp;&nbsp;&nbsp;&nbsp;&nbsp;&nbsp;&nbsp;&nbsp;&nbsp;&nbsp;&nbsp;&nbsp;&nbsp;&nbsp;&nbsp;&nbsp;&nbsp;&nbsp;&nbsp;&nbsp;&nbsp;&nbsp;&nbsp;&nbsp;&nbsp;&nbsp;&nbsp;&nbsp;Student Perfomance Analytics</b></font></html>"
   ]
  },
  {
   "cell_type": "markdown",
   "metadata": {},
   "source": [
    "# PROJECT GOAL\n",
    "<br>\n",
    "\n",
    "The **Requirement** of a Business Problem **is to develop a predictive model to Analyse and to classify the grades of student pursued** in academics using **Classification Analysis** with **Python**."
   ]
  },
  {
   "cell_type": "markdown",
   "metadata": {},
   "source": [
    "# Import Libraries"
   ]
  },
  {
   "cell_type": "code",
   "execution_count": 1,
   "metadata": {},
   "outputs": [],
   "source": [
    "import numpy as np\n",
    "import pandas as pd\n",
    "import matplotlib.pyplot as plt\n",
    "import seaborn as sns\n",
    "from scipy import stats\n",
    "import warnings\n",
    "warnings.filterwarnings(\"ignore\")"
   ]
  },
  {
   "cell_type": "markdown",
   "metadata": {},
   "source": [
    "# Loader Function to Load Dataframe"
   ]
  },
  {
   "cell_type": "code",
   "execution_count": 2,
   "metadata": {},
   "outputs": [],
   "source": [
    "path =\"StudentsPerformance.csv\"\n",
    "class DataFrame_Loader():\n",
    "    data = path\n",
    "    \n",
    "    def __init__(self):\n",
    "        \n",
    "        print(\"Loadind DataFrame\")\n",
    "        \n",
    "    def read_csv(self,data):\n",
    "        self.df = pd.read_csv(data)\n",
    "        \n",
    "    def load_csv(self):\n",
    "        return self.df"
   ]
  },
  {
   "cell_type": "code",
   "execution_count": 3,
   "metadata": {},
   "outputs": [
    {
     "name": "stdout",
     "output_type": "stream",
     "text": [
      "Loadind DataFrame\n"
     ]
    }
   ],
   "source": [
    "data = DataFrame_Loader()"
   ]
  },
  {
   "cell_type": "code",
   "execution_count": 4,
   "metadata": {},
   "outputs": [],
   "source": [
    "data.read_csv(path)"
   ]
  },
  {
   "cell_type": "code",
   "execution_count": 5,
   "metadata": {},
   "outputs": [],
   "source": [
    "df=data.load_csv()"
   ]
  },
  {
   "cell_type": "code",
   "execution_count": 6,
   "metadata": {},
   "outputs": [
    {
     "data": {
      "text/html": [
       "<div>\n",
       "<style scoped>\n",
       "    .dataframe tbody tr th:only-of-type {\n",
       "        vertical-align: middle;\n",
       "    }\n",
       "\n",
       "    .dataframe tbody tr th {\n",
       "        vertical-align: top;\n",
       "    }\n",
       "\n",
       "    .dataframe thead th {\n",
       "        text-align: right;\n",
       "    }\n",
       "</style>\n",
       "<table border=\"1\" class=\"dataframe\">\n",
       "  <thead>\n",
       "    <tr style=\"text-align: right;\">\n",
       "      <th></th>\n",
       "      <th>gender</th>\n",
       "      <th>race/ethnicity</th>\n",
       "      <th>parental level of education</th>\n",
       "      <th>lunch</th>\n",
       "      <th>test preparation course</th>\n",
       "      <th>math_score</th>\n",
       "      <th>reading_score</th>\n",
       "      <th>writing_score</th>\n",
       "    </tr>\n",
       "  </thead>\n",
       "  <tbody>\n",
       "    <tr>\n",
       "      <th>0</th>\n",
       "      <td>female</td>\n",
       "      <td>group B</td>\n",
       "      <td>bachelor's degree</td>\n",
       "      <td>standard</td>\n",
       "      <td>none</td>\n",
       "      <td>72</td>\n",
       "      <td>72</td>\n",
       "      <td>74</td>\n",
       "    </tr>\n",
       "    <tr>\n",
       "      <th>1</th>\n",
       "      <td>female</td>\n",
       "      <td>group C</td>\n",
       "      <td>some college</td>\n",
       "      <td>standard</td>\n",
       "      <td>completed</td>\n",
       "      <td>69</td>\n",
       "      <td>90</td>\n",
       "      <td>88</td>\n",
       "    </tr>\n",
       "    <tr>\n",
       "      <th>2</th>\n",
       "      <td>female</td>\n",
       "      <td>group B</td>\n",
       "      <td>master's degree</td>\n",
       "      <td>standard</td>\n",
       "      <td>none</td>\n",
       "      <td>90</td>\n",
       "      <td>95</td>\n",
       "      <td>93</td>\n",
       "    </tr>\n",
       "    <tr>\n",
       "      <th>3</th>\n",
       "      <td>male</td>\n",
       "      <td>group A</td>\n",
       "      <td>associate's degree</td>\n",
       "      <td>free/reduced</td>\n",
       "      <td>none</td>\n",
       "      <td>47</td>\n",
       "      <td>57</td>\n",
       "      <td>44</td>\n",
       "    </tr>\n",
       "    <tr>\n",
       "      <th>4</th>\n",
       "      <td>male</td>\n",
       "      <td>group C</td>\n",
       "      <td>some college</td>\n",
       "      <td>standard</td>\n",
       "      <td>none</td>\n",
       "      <td>76</td>\n",
       "      <td>78</td>\n",
       "      <td>75</td>\n",
       "    </tr>\n",
       "    <tr>\n",
       "      <th>...</th>\n",
       "      <td>...</td>\n",
       "      <td>...</td>\n",
       "      <td>...</td>\n",
       "      <td>...</td>\n",
       "      <td>...</td>\n",
       "      <td>...</td>\n",
       "      <td>...</td>\n",
       "      <td>...</td>\n",
       "    </tr>\n",
       "    <tr>\n",
       "      <th>995</th>\n",
       "      <td>female</td>\n",
       "      <td>group E</td>\n",
       "      <td>master's degree</td>\n",
       "      <td>standard</td>\n",
       "      <td>completed</td>\n",
       "      <td>88</td>\n",
       "      <td>99</td>\n",
       "      <td>95</td>\n",
       "    </tr>\n",
       "    <tr>\n",
       "      <th>996</th>\n",
       "      <td>male</td>\n",
       "      <td>group C</td>\n",
       "      <td>high school</td>\n",
       "      <td>free/reduced</td>\n",
       "      <td>none</td>\n",
       "      <td>62</td>\n",
       "      <td>55</td>\n",
       "      <td>55</td>\n",
       "    </tr>\n",
       "    <tr>\n",
       "      <th>997</th>\n",
       "      <td>female</td>\n",
       "      <td>group C</td>\n",
       "      <td>high school</td>\n",
       "      <td>free/reduced</td>\n",
       "      <td>completed</td>\n",
       "      <td>59</td>\n",
       "      <td>71</td>\n",
       "      <td>65</td>\n",
       "    </tr>\n",
       "    <tr>\n",
       "      <th>998</th>\n",
       "      <td>female</td>\n",
       "      <td>group D</td>\n",
       "      <td>some college</td>\n",
       "      <td>standard</td>\n",
       "      <td>completed</td>\n",
       "      <td>68</td>\n",
       "      <td>78</td>\n",
       "      <td>77</td>\n",
       "    </tr>\n",
       "    <tr>\n",
       "      <th>999</th>\n",
       "      <td>female</td>\n",
       "      <td>group D</td>\n",
       "      <td>some college</td>\n",
       "      <td>free/reduced</td>\n",
       "      <td>none</td>\n",
       "      <td>77</td>\n",
       "      <td>86</td>\n",
       "      <td>86</td>\n",
       "    </tr>\n",
       "  </tbody>\n",
       "</table>\n",
       "<p>1000 rows × 8 columns</p>\n",
       "</div>"
      ],
      "text/plain": [
       "     gender race/ethnicity parental level of education         lunch  \\\n",
       "0    female        group B           bachelor's degree      standard   \n",
       "1    female        group C                some college      standard   \n",
       "2    female        group B             master's degree      standard   \n",
       "3      male        group A          associate's degree  free/reduced   \n",
       "4      male        group C                some college      standard   \n",
       "..      ...            ...                         ...           ...   \n",
       "995  female        group E             master's degree      standard   \n",
       "996    male        group C                 high school  free/reduced   \n",
       "997  female        group C                 high school  free/reduced   \n",
       "998  female        group D                some college      standard   \n",
       "999  female        group D                some college  free/reduced   \n",
       "\n",
       "    test preparation course  math_score  reading_score  writing_score  \n",
       "0                      none          72             72             74  \n",
       "1                 completed          69             90             88  \n",
       "2                      none          90             95             93  \n",
       "3                      none          47             57             44  \n",
       "4                      none          76             78             75  \n",
       "..                      ...         ...            ...            ...  \n",
       "995               completed          88             99             95  \n",
       "996                    none          62             55             55  \n",
       "997               completed          59             71             65  \n",
       "998               completed          68             78             77  \n",
       "999                    none          77             86             86  \n",
       "\n",
       "[1000 rows x 8 columns]"
      ]
     },
     "execution_count": 6,
     "metadata": {},
     "output_type": "execute_result"
    }
   ],
   "source": [
    "df = df.rename(columns={'math score':'math_score','reading score':'reading_score','writing score':'writing_score'})\n",
    "df"
   ]
  },
  {
   "cell_type": "markdown",
   "metadata": {},
   "source": [
    "# Exploratory Data Analysis"
   ]
  },
  {
   "cell_type": "code",
   "execution_count": 67,
   "metadata": {},
   "outputs": [],
   "source": [
    "class DataFrame_Information():\n",
    "\n",
    "    def __init__(self):\n",
    "        \n",
    "        print(\"Attribute Information object created\")\n",
    "        \n",
    "    def Attribute_information(self,df):\n",
    "    \n",
    "        data_info = pd.DataFrame(\n",
    "                                columns=['No of observation',\n",
    "                                        'No of Variables',\n",
    "                                        'No of Numerical Variables',\n",
    "                                        'No of Factor Variables',\n",
    "                                        'No of Categorical Variables',\n",
    "                                        'No of Logical Variables',\n",
    "                                        'No of Date Variables',\n",
    "                                        'No of zero variance variables'])\n",
    "\n",
    "\n",
    "        data_info.loc[0,'No of observation'] = df.shape[0]\n",
    "        data_info.loc[0,'No of Variables'] = df.shape[1]\n",
    "        data_info.loc[0,'No of Numerical Variables'] = df._get_numeric_data().shape[1]\n",
    "        data_info.loc[0,'No of Factor Variables'] = df.select_dtypes(include='category').shape[1]\n",
    "        data_info.loc[0,'No of Logical Variables'] = df.select_dtypes(include='bool').shape[1]\n",
    "        data_info.loc[0,'No of Categorical Variables'] = df.select_dtypes(include='object').shape[1]\n",
    "        data_info.loc[0,'No of Date Variables'] = df.select_dtypes(include='datetime64').shape[1]\n",
    "        data_info.loc[0,'No of zero variance variables'] = df.loc[:,df.apply(pd.Series.nunique)==1].shape[1]\n",
    "\n",
    "        data_info =data_info.transpose()\n",
    "        data_info.columns=['value']\n",
    "        data_info['value'] = data_info['value'].astype(int)\n",
    "\n",
    "\n",
    "        return data_info\n",
    "\n",
    "    def __get_missing_values(self,data):\n",
    "        \n",
    "        #Getting sum of missing values for each feature\n",
    "        missing_values = data.isnull().sum()\n",
    "        #Feature missing values are sorted from few to many\n",
    "        missing_values.sort_values(ascending=False, inplace=True)\n",
    "        \n",
    "        #Returning missing values\n",
    "        return missing_values\n",
    "\n",
    "    def Generate_Schema(self,data):\n",
    "        \n",
    "        feature_dtypes=data.dtypes\n",
    "        self.missing_values=self.__get_missing_values(data)\n",
    "\n",
    "        print(\"=\" * 110)\n",
    "\n",
    "        print(\"{:16} {:16} {:20} {:16}\".format(\"Feature Name\".upper(),\n",
    "                                            \"Data Type\".upper(),\n",
    "                                            \"# of Missing Values\".upper(),\n",
    "                                            \"Samples\".upper()))\n",
    "        for feature_name, dtype, missing_value in zip(self.missing_values.index.values,\n",
    "                                                      feature_dtypes[self.missing_values.index.values],\n",
    "                                                      self.missing_values.values):\n",
    "            print(\"{:18} {:19} {:19} \".format(feature_name, str(dtype), str(missing_value)), end=\"\")\n",
    "            for v in data[feature_name].values[:5]:\n",
    "                print(v, end=\",\")\n",
    "            print()\n",
    "\n",
    "        print(\"=\"*110)\n",
    "        \n",
    "    def Agg_Tabulation(self,data):\n",
    "        \n",
    "        print(\"=\" * 110)\n",
    "        print(\"Aggregation of Table\")\n",
    "        print(\"=\" * 110)\n",
    "        table = pd.DataFrame(data.dtypes,columns=['dtypes'])\n",
    "        table1 =pd.DataFrame(data.columns,columns=['Names'])\n",
    "        table = table.reset_index()\n",
    "        table= table.rename(columns={'index':'Name'})\n",
    "        table['No of Missing'] = data.isnull().sum().values    \n",
    "        table['No of Uniques'] = data.nunique().values\n",
    "        table['Percent of Missing'] = ((data.isnull().sum().values)/ (data.shape[0])) *100\n",
    "        table['First Observation'] = data.loc[0].values\n",
    "        table['Second Observation'] = data.loc[1].values\n",
    "        table['Third Observation'] = data.loc[2].values\n",
    "        for name in table['Name'].value_counts().index:\n",
    "            table.loc[table['Name'] == name, 'Entropy'] = round(stats.entropy(data[name].value_counts(normalize=True), base=2),2)\n",
    "        return table\n",
    "    \n",
    "        print(\"=\" * 110)\n",
    "        \n",
    "    def __IQR(self,x):\n",
    "        return x.quantile(q=0.75) - x.quantile(q=0.25)\n",
    "\n",
    "    def __Outlier_Count(self,x):\n",
    "        upper_out = x.quantile(q=0.75) + 1.5 * self.__IQR(x)\n",
    "        lower_out = x.quantile(q=0.25) - 1.5 * self.__IQR(x)\n",
    "        return len(x[x > upper_out]) + len(x[x < lower_out])\n",
    "\n",
    "    def Numeric_Count_Summary(self,df):\n",
    "        df_num = df._get_numeric_data()\n",
    "        data_info_num = pd.DataFrame()\n",
    "        i=0\n",
    "        for c in  df_num.columns:\n",
    "            data_info_num.loc[c,'Negative values count']= df_num[df_num[c]<0].shape[0]\n",
    "            data_info_num.loc[c,'Positive values count']= df_num[df_num[c]>0].shape[0]\n",
    "            data_info_num.loc[c,'Zero count']= df_num[df_num[c]==0].shape[0]\n",
    "            data_info_num.loc[c,'Unique count']= len(df_num[c].unique())\n",
    "            data_info_num.loc[c,'Negative Infinity count']= df_num[df_num[c]== -np.inf].shape[0]\n",
    "            data_info_num.loc[c,'Positive Infinity count']= df_num[df_num[c]== np.inf].shape[0]\n",
    "            data_info_num.loc[c,'Missing Percentage']= df_num[df_num[c].isnull()].shape[0]/ df_num.shape[0]\n",
    "            data_info_num.loc[c,'Count of outliers']= self.__Outlier_Count(df_num[c])\n",
    "            i = i+1\n",
    "        return data_info_num\n",
    "    \n",
    "    def Statistical_Summary(self,df):\n",
    "    \n",
    "        df_num = df._get_numeric_data()\n",
    "\n",
    "        data_stat_num = pd.DataFrame()\n",
    "\n",
    "        try:\n",
    "            data_stat_num = pd.concat([df_num.describe().transpose(),\n",
    "                                       pd.DataFrame(df_num.quantile(q=0.10)),\n",
    "                                       pd.DataFrame(df_num.quantile(q=0.90)),\n",
    "                                       pd.DataFrame(df_num.quantile(q=0.95))],axis=1)\n",
    "            data_stat_num.columns = ['count','mean','std','min','25%','50%','75%','max','10%','90%','95%']\n",
    "        except:\n",
    "            pass\n",
    "\n",
    "        return data_stat_num\n",
    "    \n",
    "    def group_by_Num_variables(self,df,x,y):\n",
    "        d=df.groupby([x])[y].describe()\n",
    "        data_stat_num = pd.DataFrame()\n",
    "\n",
    "        try:\n",
    "                data_stat_num = pd.concat([d,\n",
    "                                           pd.DataFrame(df_num.quantile(q=0.10)),\n",
    "                                           pd.DataFrame(df_num.quantile(q=0.90)),\n",
    "                                           pd.DataFrame(df_num.quantile(q=0.95))],axis=1)\n",
    "                data_stat_num.columns = ['count','mean','std','min','25%','50%','75%','max','10%','90%','95%']\n",
    "        except:\n",
    "            pass\n",
    "\n",
    "        return data_stat_num"
   ]
  },
  {
   "cell_type": "code",
   "execution_count": 68,
   "metadata": {},
   "outputs": [
    {
     "name": "stdout",
     "output_type": "stream",
     "text": [
      "Attribute Information object created\n"
     ]
    }
   ],
   "source": [
    "Info = DataFrame_Information()"
   ]
  },
  {
   "cell_type": "code",
   "execution_count": 9,
   "metadata": {},
   "outputs": [
    {
     "data": {
      "text/html": [
       "<div>\n",
       "<style scoped>\n",
       "    .dataframe tbody tr th:only-of-type {\n",
       "        vertical-align: middle;\n",
       "    }\n",
       "\n",
       "    .dataframe tbody tr th {\n",
       "        vertical-align: top;\n",
       "    }\n",
       "\n",
       "    .dataframe thead th {\n",
       "        text-align: right;\n",
       "    }\n",
       "</style>\n",
       "<table border=\"1\" class=\"dataframe\">\n",
       "  <thead>\n",
       "    <tr style=\"text-align: right;\">\n",
       "      <th></th>\n",
       "      <th>value</th>\n",
       "    </tr>\n",
       "  </thead>\n",
       "  <tbody>\n",
       "    <tr>\n",
       "      <th>No of observation</th>\n",
       "      <td>1000</td>\n",
       "    </tr>\n",
       "    <tr>\n",
       "      <th>No of Variables</th>\n",
       "      <td>8</td>\n",
       "    </tr>\n",
       "    <tr>\n",
       "      <th>No of Numerical Variables</th>\n",
       "      <td>3</td>\n",
       "    </tr>\n",
       "    <tr>\n",
       "      <th>No of Factor Variables</th>\n",
       "      <td>0</td>\n",
       "    </tr>\n",
       "    <tr>\n",
       "      <th>No of Categorical Variables</th>\n",
       "      <td>5</td>\n",
       "    </tr>\n",
       "    <tr>\n",
       "      <th>No of Logical Variables</th>\n",
       "      <td>0</td>\n",
       "    </tr>\n",
       "    <tr>\n",
       "      <th>No of Date Variables</th>\n",
       "      <td>0</td>\n",
       "    </tr>\n",
       "    <tr>\n",
       "      <th>No of zero variance variables</th>\n",
       "      <td>0</td>\n",
       "    </tr>\n",
       "  </tbody>\n",
       "</table>\n",
       "</div>"
      ],
      "text/plain": [
       "                               value\n",
       "No of observation               1000\n",
       "No of Variables                    8\n",
       "No of Numerical Variables          3\n",
       "No of Factor Variables             0\n",
       "No of Categorical Variables        5\n",
       "No of Logical Variables            0\n",
       "No of Date Variables               0\n",
       "No of zero variance variables      0"
      ]
     },
     "execution_count": 9,
     "metadata": {},
     "output_type": "execute_result"
    }
   ],
   "source": [
    "Info.Attribute_information(df)"
   ]
  },
  {
   "cell_type": "code",
   "execution_count": 10,
   "metadata": {},
   "outputs": [
    {
     "name": "stdout",
     "output_type": "stream",
     "text": [
      "==============================================================================================================\n",
      "FEATURE NAME     DATA TYPE        # OF MISSING VALUES  SAMPLES         \n",
      "writing_score      int64               0                   74,88,93,44,75,\n",
      "reading_score      int64               0                   72,90,95,57,78,\n",
      "math_score         int64               0                   72,69,90,47,76,\n",
      "test preparation course object              0                   none,completed,none,none,none,\n",
      "lunch              object              0                   standard,standard,standard,free/reduced,standard,\n",
      "parental level of education object              0                   bachelor's degree,some college,master's degree,associate's degree,some college,\n",
      "race/ethnicity     object              0                   group B,group C,group B,group A,group C,\n",
      "gender             object              0                   female,female,female,male,male,\n",
      "==============================================================================================================\n"
     ]
    }
   ],
   "source": [
    "Info.Generate_Schema(df)"
   ]
  },
  {
   "cell_type": "code",
   "execution_count": 11,
   "metadata": {},
   "outputs": [
    {
     "name": "stdout",
     "output_type": "stream",
     "text": [
      "==============================================================================================================\n",
      "Aggregation of Table\n",
      "==============================================================================================================\n"
     ]
    },
    {
     "data": {
      "text/html": [
       "<div>\n",
       "<style scoped>\n",
       "    .dataframe tbody tr th:only-of-type {\n",
       "        vertical-align: middle;\n",
       "    }\n",
       "\n",
       "    .dataframe tbody tr th {\n",
       "        vertical-align: top;\n",
       "    }\n",
       "\n",
       "    .dataframe thead th {\n",
       "        text-align: right;\n",
       "    }\n",
       "</style>\n",
       "<table border=\"1\" class=\"dataframe\">\n",
       "  <thead>\n",
       "    <tr style=\"text-align: right;\">\n",
       "      <th></th>\n",
       "      <th>Name</th>\n",
       "      <th>dtypes</th>\n",
       "      <th>No of Missing</th>\n",
       "      <th>No of Uniques</th>\n",
       "      <th>Percent of Missing</th>\n",
       "      <th>First Observation</th>\n",
       "      <th>Second Observation</th>\n",
       "      <th>Third Observation</th>\n",
       "      <th>Entropy</th>\n",
       "    </tr>\n",
       "  </thead>\n",
       "  <tbody>\n",
       "    <tr>\n",
       "      <th>0</th>\n",
       "      <td>gender</td>\n",
       "      <td>object</td>\n",
       "      <td>0</td>\n",
       "      <td>2</td>\n",
       "      <td>0.0</td>\n",
       "      <td>female</td>\n",
       "      <td>female</td>\n",
       "      <td>female</td>\n",
       "      <td>1.00</td>\n",
       "    </tr>\n",
       "    <tr>\n",
       "      <th>1</th>\n",
       "      <td>race/ethnicity</td>\n",
       "      <td>object</td>\n",
       "      <td>0</td>\n",
       "      <td>5</td>\n",
       "      <td>0.0</td>\n",
       "      <td>group B</td>\n",
       "      <td>group C</td>\n",
       "      <td>group B</td>\n",
       "      <td>2.20</td>\n",
       "    </tr>\n",
       "    <tr>\n",
       "      <th>2</th>\n",
       "      <td>parental level of education</td>\n",
       "      <td>object</td>\n",
       "      <td>0</td>\n",
       "      <td>6</td>\n",
       "      <td>0.0</td>\n",
       "      <td>bachelor's degree</td>\n",
       "      <td>some college</td>\n",
       "      <td>master's degree</td>\n",
       "      <td>2.48</td>\n",
       "    </tr>\n",
       "    <tr>\n",
       "      <th>3</th>\n",
       "      <td>lunch</td>\n",
       "      <td>object</td>\n",
       "      <td>0</td>\n",
       "      <td>2</td>\n",
       "      <td>0.0</td>\n",
       "      <td>standard</td>\n",
       "      <td>standard</td>\n",
       "      <td>standard</td>\n",
       "      <td>0.94</td>\n",
       "    </tr>\n",
       "    <tr>\n",
       "      <th>4</th>\n",
       "      <td>test preparation course</td>\n",
       "      <td>object</td>\n",
       "      <td>0</td>\n",
       "      <td>2</td>\n",
       "      <td>0.0</td>\n",
       "      <td>none</td>\n",
       "      <td>completed</td>\n",
       "      <td>none</td>\n",
       "      <td>0.94</td>\n",
       "    </tr>\n",
       "    <tr>\n",
       "      <th>5</th>\n",
       "      <td>math_score</td>\n",
       "      <td>int64</td>\n",
       "      <td>0</td>\n",
       "      <td>81</td>\n",
       "      <td>0.0</td>\n",
       "      <td>72</td>\n",
       "      <td>69</td>\n",
       "      <td>90</td>\n",
       "      <td>5.88</td>\n",
       "    </tr>\n",
       "    <tr>\n",
       "      <th>6</th>\n",
       "      <td>reading_score</td>\n",
       "      <td>int64</td>\n",
       "      <td>0</td>\n",
       "      <td>72</td>\n",
       "      <td>0.0</td>\n",
       "      <td>72</td>\n",
       "      <td>90</td>\n",
       "      <td>95</td>\n",
       "      <td>5.79</td>\n",
       "    </tr>\n",
       "    <tr>\n",
       "      <th>7</th>\n",
       "      <td>writing_score</td>\n",
       "      <td>int64</td>\n",
       "      <td>0</td>\n",
       "      <td>77</td>\n",
       "      <td>0.0</td>\n",
       "      <td>74</td>\n",
       "      <td>88</td>\n",
       "      <td>93</td>\n",
       "      <td>5.87</td>\n",
       "    </tr>\n",
       "  </tbody>\n",
       "</table>\n",
       "</div>"
      ],
      "text/plain": [
       "                          Name  dtypes  No of Missing  No of Uniques  \\\n",
       "0                       gender  object              0              2   \n",
       "1               race/ethnicity  object              0              5   \n",
       "2  parental level of education  object              0              6   \n",
       "3                        lunch  object              0              2   \n",
       "4      test preparation course  object              0              2   \n",
       "5                   math_score   int64              0             81   \n",
       "6                reading_score   int64              0             72   \n",
       "7                writing_score   int64              0             77   \n",
       "\n",
       "   Percent of Missing  First Observation Second Observation Third Observation  \\\n",
       "0                 0.0             female             female            female   \n",
       "1                 0.0            group B            group C           group B   \n",
       "2                 0.0  bachelor's degree       some college   master's degree   \n",
       "3                 0.0           standard           standard          standard   \n",
       "4                 0.0               none          completed              none   \n",
       "5                 0.0                 72                 69                90   \n",
       "6                 0.0                 72                 90                95   \n",
       "7                 0.0                 74                 88                93   \n",
       "\n",
       "   Entropy  \n",
       "0     1.00  \n",
       "1     2.20  \n",
       "2     2.48  \n",
       "3     0.94  \n",
       "4     0.94  \n",
       "5     5.88  \n",
       "6     5.79  \n",
       "7     5.87  "
      ]
     },
     "execution_count": 11,
     "metadata": {},
     "output_type": "execute_result"
    }
   ],
   "source": [
    "Info.Agg_Tabulation(df)"
   ]
  },
  {
   "cell_type": "code",
   "execution_count": 12,
   "metadata": {},
   "outputs": [
    {
     "data": {
      "text/html": [
       "<div>\n",
       "<style scoped>\n",
       "    .dataframe tbody tr th:only-of-type {\n",
       "        vertical-align: middle;\n",
       "    }\n",
       "\n",
       "    .dataframe tbody tr th {\n",
       "        vertical-align: top;\n",
       "    }\n",
       "\n",
       "    .dataframe thead th {\n",
       "        text-align: right;\n",
       "    }\n",
       "</style>\n",
       "<table border=\"1\" class=\"dataframe\">\n",
       "  <thead>\n",
       "    <tr style=\"text-align: right;\">\n",
       "      <th></th>\n",
       "      <th>Negative values count</th>\n",
       "      <th>Positive values count</th>\n",
       "      <th>Zero count</th>\n",
       "      <th>Unique count</th>\n",
       "      <th>Negative Infinity count</th>\n",
       "      <th>Positive Infinity count</th>\n",
       "      <th>Missing Percentage</th>\n",
       "      <th>Count of outliers</th>\n",
       "    </tr>\n",
       "  </thead>\n",
       "  <tbody>\n",
       "    <tr>\n",
       "      <th>math_score</th>\n",
       "      <td>0.0</td>\n",
       "      <td>999.0</td>\n",
       "      <td>1.0</td>\n",
       "      <td>81.0</td>\n",
       "      <td>0.0</td>\n",
       "      <td>0.0</td>\n",
       "      <td>0.0</td>\n",
       "      <td>8.0</td>\n",
       "    </tr>\n",
       "    <tr>\n",
       "      <th>reading_score</th>\n",
       "      <td>0.0</td>\n",
       "      <td>1000.0</td>\n",
       "      <td>0.0</td>\n",
       "      <td>72.0</td>\n",
       "      <td>0.0</td>\n",
       "      <td>0.0</td>\n",
       "      <td>0.0</td>\n",
       "      <td>6.0</td>\n",
       "    </tr>\n",
       "    <tr>\n",
       "      <th>writing_score</th>\n",
       "      <td>0.0</td>\n",
       "      <td>1000.0</td>\n",
       "      <td>0.0</td>\n",
       "      <td>77.0</td>\n",
       "      <td>0.0</td>\n",
       "      <td>0.0</td>\n",
       "      <td>0.0</td>\n",
       "      <td>5.0</td>\n",
       "    </tr>\n",
       "  </tbody>\n",
       "</table>\n",
       "</div>"
      ],
      "text/plain": [
       "               Negative values count  Positive values count  Zero count  \\\n",
       "math_score                       0.0                  999.0         1.0   \n",
       "reading_score                    0.0                 1000.0         0.0   \n",
       "writing_score                    0.0                 1000.0         0.0   \n",
       "\n",
       "               Unique count  Negative Infinity count  Positive Infinity count  \\\n",
       "math_score             81.0                      0.0                      0.0   \n",
       "reading_score          72.0                      0.0                      0.0   \n",
       "writing_score          77.0                      0.0                      0.0   \n",
       "\n",
       "               Missing Percentage  Count of outliers  \n",
       "math_score                    0.0                8.0  \n",
       "reading_score                 0.0                6.0  \n",
       "writing_score                 0.0                5.0  "
      ]
     },
     "execution_count": 12,
     "metadata": {},
     "output_type": "execute_result"
    }
   ],
   "source": [
    "Info.Numeric_Count_Summary(df)"
   ]
  },
  {
   "cell_type": "code",
   "execution_count": 13,
   "metadata": {},
   "outputs": [
    {
     "data": {
      "text/html": [
       "<div>\n",
       "<style scoped>\n",
       "    .dataframe tbody tr th:only-of-type {\n",
       "        vertical-align: middle;\n",
       "    }\n",
       "\n",
       "    .dataframe tbody tr th {\n",
       "        vertical-align: top;\n",
       "    }\n",
       "\n",
       "    .dataframe thead th {\n",
       "        text-align: right;\n",
       "    }\n",
       "</style>\n",
       "<table border=\"1\" class=\"dataframe\">\n",
       "  <thead>\n",
       "    <tr style=\"text-align: right;\">\n",
       "      <th></th>\n",
       "      <th>count</th>\n",
       "      <th>mean</th>\n",
       "      <th>std</th>\n",
       "      <th>min</th>\n",
       "      <th>25%</th>\n",
       "      <th>50%</th>\n",
       "      <th>75%</th>\n",
       "      <th>max</th>\n",
       "      <th>10%</th>\n",
       "      <th>90%</th>\n",
       "      <th>95%</th>\n",
       "    </tr>\n",
       "  </thead>\n",
       "  <tbody>\n",
       "    <tr>\n",
       "      <th>math_score</th>\n",
       "      <td>1000.0</td>\n",
       "      <td>66.089</td>\n",
       "      <td>15.163080</td>\n",
       "      <td>0.0</td>\n",
       "      <td>57.00</td>\n",
       "      <td>66.0</td>\n",
       "      <td>77.0</td>\n",
       "      <td>100.0</td>\n",
       "      <td>47.0</td>\n",
       "      <td>86.0</td>\n",
       "      <td>90.05</td>\n",
       "    </tr>\n",
       "    <tr>\n",
       "      <th>reading_score</th>\n",
       "      <td>1000.0</td>\n",
       "      <td>69.169</td>\n",
       "      <td>14.600192</td>\n",
       "      <td>17.0</td>\n",
       "      <td>59.00</td>\n",
       "      <td>70.0</td>\n",
       "      <td>79.0</td>\n",
       "      <td>100.0</td>\n",
       "      <td>51.0</td>\n",
       "      <td>87.1</td>\n",
       "      <td>92.00</td>\n",
       "    </tr>\n",
       "    <tr>\n",
       "      <th>writing_score</th>\n",
       "      <td>1000.0</td>\n",
       "      <td>68.054</td>\n",
       "      <td>15.195657</td>\n",
       "      <td>10.0</td>\n",
       "      <td>57.75</td>\n",
       "      <td>69.0</td>\n",
       "      <td>79.0</td>\n",
       "      <td>100.0</td>\n",
       "      <td>48.0</td>\n",
       "      <td>87.0</td>\n",
       "      <td>92.00</td>\n",
       "    </tr>\n",
       "  </tbody>\n",
       "</table>\n",
       "</div>"
      ],
      "text/plain": [
       "                count    mean        std   min    25%   50%   75%    max  \\\n",
       "math_score     1000.0  66.089  15.163080   0.0  57.00  66.0  77.0  100.0   \n",
       "reading_score  1000.0  69.169  14.600192  17.0  59.00  70.0  79.0  100.0   \n",
       "writing_score  1000.0  68.054  15.195657  10.0  57.75  69.0  79.0  100.0   \n",
       "\n",
       "                10%   90%    95%  \n",
       "math_score     47.0  86.0  90.05  \n",
       "reading_score  51.0  87.1  92.00  \n",
       "writing_score  48.0  87.0  92.00  "
      ]
     },
     "execution_count": 13,
     "metadata": {},
     "output_type": "execute_result"
    }
   ],
   "source": [
    "Info.Statistical_Summary(df)"
   ]
  },
  {
   "cell_type": "markdown",
   "metadata": {},
   "source": [
    "# EDA and Preprocessing  With Visualization"
   ]
  },
  {
   "cell_type": "code",
   "execution_count": 17,
   "metadata": {},
   "outputs": [],
   "source": [
    " from math import *\n",
    "class DataFrame_Visualizer():\n",
    "\n",
    "    def __init__(self):\n",
    "        \n",
    "        print(\"Visualizer object created\")\n",
    "        \n",
    "    def Bar_graph(self,df,x):\n",
    "        plt.figure(figsize=(20,7))\n",
    "        x.value_counts(normalize = True)\n",
    "        x.value_counts(dropna = False).plot.bar(color='blue')\n",
    "        plt.xlabel('variable')\n",
    "        plt.ylabel('count')\n",
    "        plt.show()\n",
    "        \n",
    "    def cross_tab_with_stacked_bar_chart(self,df,x,y):\n",
    "        x = pd.crosstab(x, y)\n",
    "        return x.div(x.sum(1).astype(float), axis = 0).plot(kind = 'bar', stacked = True, figsize = (4, 4))\n",
    "    \n",
    "    def count_plot_for_variables(self,df,x,y,z):\n",
    "        sns.countplot(x = x, data = df, hue = y, palette = z)\n",
    "        plt.show()\n",
    "        \n",
    "    def Calculate_Pass_Math_with_math_score(self,df):    \n",
    "        passmarks = 40\n",
    "\n",
    "        # creating a new column pass_math, this column will tell us whether the students are pass or fail\n",
    "        df['pass_math'] = np.where(df['math_score']< passmarks, 'Fail', 'Pass')\n",
    "        df['pass_math'].value_counts(dropna = False).plot.bar(color = 'black', figsize = (5, 3))\n",
    "\n",
    "        plt.title('Comparison of students passed or failed in maths')\n",
    "        plt.xlabel('status')\n",
    "        plt.ylabel('count')\n",
    "        plt.show()\n",
    "\n",
    "    def Calculate_Marks_with_math_score(self,df):\n",
    "    \n",
    "        passmarks = 40\n",
    "\n",
    "        df['pass_writing'] = np.where(df['math_score']< passmarks, 'Fail', 'Pass')\n",
    "        df['pass_writing'].value_counts(dropna = False).plot.bar(color = 'green', figsize = (5, 3))\n",
    "\n",
    "        plt.title('Comparison of students passed or failed in maths')\n",
    "        plt.xlabel('status')\n",
    "        plt.ylabel('count')\n",
    "        plt.show()\n",
    "        \n",
    "    def Calculate_Marks_with_writing_score(self,df):\n",
    "        \n",
    "        passmarks = 40\n",
    "\n",
    "        df['pass_writing'] = np.where(df['writing_score']< passmarks, 'Fail', 'Pass')\n",
    "        df['pass_writing'].value_counts(dropna = False).plot.bar(color = 'blue', figsize = (5, 3))\n",
    "\n",
    "        plt.title('Comparison of students passed or failed in maths')\n",
    "        plt.xlabel('status')\n",
    "        plt.ylabel('count')\n",
    "        plt.show()\n",
    "        \n",
    "    def Calculate_total_Score_with_math_score(self,df):\n",
    "        \n",
    "        df['total_score'] = df['math_score'] + df['reading_score'] + df['writing_score']\n",
    "\n",
    "        df['total_score'].value_counts(normalize = True)\n",
    "        df['total_score'].value_counts(dropna = True).plot.bar(color = 'red', figsize = (40, 8))\n",
    "\n",
    "        plt.title('comparison of total score of all the students')\n",
    "        plt.xlabel('total score scored by the students')\n",
    "        plt.ylabel('count')\n",
    "        plt.show()\n",
    "        \n",
    "     \n",
    "    def Calculate_percentage_with_total_Score(self,df):\n",
    "\n",
    "        df['percentage'] = df['total_score']/3\n",
    "\n",
    "        for i in range(0, 1000):\n",
    "            df['percentage'][i] = ceil(df['percentage'][i])\n",
    "\n",
    "        df['percentage'].value_counts(normalize = True)\n",
    "        df['percentage'].value_counts(dropna = False).plot.bar(figsize = (16, 8), color = 'red')\n",
    "\n",
    "        plt.title('Comparison of percentage scored by all the students')\n",
    "        plt.xlabel('percentage score')\n",
    "        plt.ylabel('count')\n",
    "        plt.show()\n",
    "        \n",
    "    def Calculate_pass_reading_with_reading_score(self,df):    \n",
    "        \n",
    "        passmarks = 40\n",
    "        df['pass_reading'] = np.where(df['reading_score']< passmarks, 'Fail', 'Pass')\n",
    "        df['pass_reading'].value_counts(dropna = False).plot.bar(color = 'brown', figsize = (5, 3))\n",
    "\n",
    "        plt.title('Comparison of students passed or failed in maths')\n",
    "        plt.xlabel('status')\n",
    "        plt.ylabel('count')\n",
    "        plt.show()\n",
    "        \n",
    "    def Calculate_status_with_pass_math_and_pass_writing(self,df):\n",
    "        \n",
    "        passmarks = 40\n",
    "        df['status'] = df.apply(lambda x : 'Fail' if x['pass_math'] == 'Fail' or \n",
    "                           x['pass_reading'] == 'Fail' or x['pass_writing'] == 'Fail'\n",
    "                           else 'pass', axis = 1)\n",
    "\n",
    "        df['status'].value_counts(dropna = False).plot.bar(color = 'gray', figsize = (3, 3))\n",
    "        plt.title('overall results')\n",
    "        plt.xlabel('status')\n",
    "        plt.ylabel('count')\n",
    "        plt.show()\n",
    "        \n",
    "    def pie_chart(self):\n",
    "    \n",
    "        labels = ['Grade 0', 'Grade A', 'Grade B', 'Grade C', 'Grade D', 'Grade E']\n",
    "        sizes = [58, 156, 260, 252, 223, 51]\n",
    "        colors = ['yellow', 'gold', 'lightskyblue', 'lightcoral', 'pink', 'cyan']\n",
    "        explode = (0.0001, 0.0001, 0.0001, 0.0001, 0.0001, 0.0001)\n",
    "\n",
    "        patches, texts = plt.pie(sizes, colors=colors, shadow=True, startangle=90)\n",
    "        plt.legend(patches, labels)\n",
    "        plt.axis('equal')\n",
    "        plt.tight_layout()\n",
    "        plt.show()\n",
    "        \n",
    "    def getgrade(self,percentage, status):\n",
    "        if status == 'Fail':\n",
    "            return 'E'\n",
    "        if(percentage >= 90):\n",
    "            return 'O'\n",
    "        if(percentage >= 80):\n",
    "            return 'A'\n",
    "        if(percentage >= 70):\n",
    "            return 'B'\n",
    "        if(percentage >= 60):\n",
    "            return 'C'\n",
    "        if(percentage >= 40):\n",
    "            return 'D'\n",
    "        else :\n",
    "            return 'E'"
   ]
  },
  {
   "cell_type": "code",
   "execution_count": 18,
   "metadata": {},
   "outputs": [
    {
     "name": "stdout",
     "output_type": "stream",
     "text": [
      "Visualizer object created\n"
     ]
    }
   ],
   "source": [
    "visualizer = DataFrame_Visualizer()"
   ]
  },
  {
   "cell_type": "code",
   "execution_count": 19,
   "metadata": {},
   "outputs": [
    {
     "data": {
      "image/png": "[encoded data removed]",
      "text/plain": [
       "<Figure size 1440x504 with 1 Axes>"
      ]
     },
     "metadata": {
      "needs_background": "light"
     },
     "output_type": "display_data"
    }
   ],
   "source": [
    "visualizer.Bar_graph(df,df['gender'])"
   ]
  },
  {
   "cell_type": "code",
   "execution_count": 20,
   "metadata": {},
   "outputs": [
    {
     "data": {
      "image/png": "[encoded data removed]",
      "text/plain": [
       "<Figure size 1440x504 with 1 Axes>"
      ]
     },
     "metadata": {
      "needs_background": "light"
     },
     "output_type": "display_data"
    }
   ],
   "source": [
    "visualizer.Bar_graph(df,df['lunch'])"
   ]
  },
  {
   "cell_type": "code",
   "execution_count": 21,
   "metadata": {},
   "outputs": [
    {
     "data": {
      "image/png": "[encoded data removed]",
      "text/plain": [
       "<Figure size 1440x504 with 1 Axes>"
      ]
     },
     "metadata": {
      "needs_background": "light"
     },
     "output_type": "display_data"
    }
   ],
   "source": [
    "visualizer.Bar_graph(df,df['race/ethnicity'])"
   ]
  },
  {
   "cell_type": "code",
   "execution_count": 22,
   "metadata": {},
   "outputs": [
    {
     "data": {
      "image/png": "[encoded data removed]",
      "text/plain": [
       "<Figure size 1440x504 with 1 Axes>"
      ]
     },
     "metadata": {
      "needs_background": "light"
     },
     "output_type": "display_data"
    }
   ],
   "source": [
    "visualizer.Bar_graph(df,df['math_score'])"
   ]
  },
  {
   "cell_type": "code",
   "execution_count": 23,
   "metadata": {},
   "outputs": [
    {
     "data": {
      "image/png": "[encoded data removed]",
      "text/plain": [
       "<Figure size 1440x504 with 1 Axes>"
      ]
     },
     "metadata": {
      "needs_background": "light"
     },
     "output_type": "display_data"
    }
   ],
   "source": [
    "visualizer.Bar_graph(df,df['reading_score'])"
   ]
  },
  {
   "cell_type": "code",
   "execution_count": 24,
   "metadata": {},
   "outputs": [
    {
     "data": {
      "image/png": "[encoded data removed]",
      "text/plain": [
       "<Figure size 1440x504 with 1 Axes>"
      ]
     },
     "metadata": {
      "needs_background": "light"
     },
     "output_type": "display_data"
    }
   ],
   "source": [
    "visualizer.Bar_graph(df,df['writing_score'])"
   ]
  },
  {
   "cell_type": "code",
   "execution_count": 25,
   "metadata": {},
   "outputs": [
    {
     "data": {
      "text/plain": [
       "<matplotlib.axes._subplots.AxesSubplot at 0x17e4426f708>"
      ]
     },
     "execution_count": 25,
     "metadata": {},
     "output_type": "execute_result"
    },
    {
     "data": {
      "image/png": "[encoded data removed]",
      "text/plain": [
       "<Figure size 288x288 with 1 Axes>"
      ]
     },
     "metadata": {
      "needs_background": "light"
     },
     "output_type": "display_data"
    }
   ],
   "source": [
    "visualizer.cross_tab_with_stacked_bar_chart(df,df['gender'],df['race/ethnicity'])"
   ]
  },
  {
   "cell_type": "code",
   "execution_count": 26,
   "metadata": {},
   "outputs": [
    {
     "data": {
      "text/plain": [
       "<matplotlib.axes._subplots.AxesSubplot at 0x17e442fcf48>"
      ]
     },
     "execution_count": 26,
     "metadata": {},
     "output_type": "execute_result"
    },
    {
     "data": {
      "image/png": "[encoded data removed]",
      "text/plain": [
       "<Figure size 288x288 with 1 Axes>"
      ]
     },
     "metadata": {
      "needs_background": "light"
     },
     "output_type": "display_data"
    }
   ],
   "source": [
    "visualizer.cross_tab_with_stacked_bar_chart(df,df['race/ethnicity'],df['parental level of education'])"
   ]
  },
  {
   "cell_type": "code",
   "execution_count": 27,
   "metadata": {},
   "outputs": [
    {
     "data": {
      "text/plain": [
       "<matplotlib.axes._subplots.AxesSubplot at 0x17e44620bc8>"
      ]
     },
     "execution_count": 27,
     "metadata": {},
     "output_type": "execute_result"
    },
    {
     "data": {
      "image/png": "[encoded data removed]",
      "text/plain": [
       "<Figure size 288x288 with 1 Axes>"
      ]
     },
     "metadata": {
      "needs_background": "light"
     },
     "output_type": "display_data"
    }
   ],
   "source": [
    "visualizer.cross_tab_with_stacked_bar_chart(df,df['race/ethnicity'],df['lunch'])"
   ]
  },
  {
   "cell_type": "code",
   "execution_count": 28,
   "metadata": {},
   "outputs": [
    {
     "data": {
      "text/plain": [
       "<matplotlib.axes._subplots.AxesSubplot at 0x17e446a1a08>"
      ]
     },
     "execution_count": 28,
     "metadata": {},
     "output_type": "execute_result"
    },
    {
     "data": {
      "image/png": "[encoded data removed]",
      "text/plain": [
       "<Figure size 288x288 with 1 Axes>"
      ]
     },
     "metadata": {
      "needs_background": "light"
     },
     "output_type": "display_data"
    }
   ],
   "source": [
    "visualizer.cross_tab_with_stacked_bar_chart(df,df['race/ethnicity'],df['gender'])"
   ]
  },
  {
   "cell_type": "code",
   "execution_count": 29,
   "metadata": {},
   "outputs": [
    {
     "data": {
      "text/plain": [
       "<matplotlib.axes._subplots.AxesSubplot at 0x17e447281c8>"
      ]
     },
     "execution_count": 29,
     "metadata": {},
     "output_type": "execute_result"
    },
    {
     "data": {
      "image/png": "[encoded data removed]",
      "text/plain": [
       "<Figure size 288x288 with 1 Axes>"
      ]
     },
     "metadata": {
      "needs_background": "light"
     },
     "output_type": "display_data"
    }
   ],
   "source": [
    "visualizer.cross_tab_with_stacked_bar_chart(df,df['parental level of education'],df['race/ethnicity'])"
   ]
  },
  {
   "cell_type": "code",
   "execution_count": 30,
   "metadata": {},
   "outputs": [
    {
     "data": {
      "image/png": "[encoded data removed]",
      "text/plain": [
       "<Figure size 432x288 with 1 Axes>"
      ]
     },
     "metadata": {
      "needs_background": "light"
     },
     "output_type": "display_data"
    }
   ],
   "source": [
    "visualizer.count_plot_for_variables(df,'parental level of education','test preparation course','dark')"
   ]
  },
  {
   "cell_type": "code",
   "execution_count": 31,
   "metadata": {},
   "outputs": [
    {
     "data": {
      "image/png": "[encoded data removed]",
      "text/plain": [
       "<Figure size 432x288 with 1 Axes>"
      ]
     },
     "metadata": {
      "needs_background": "light"
     },
     "output_type": "display_data"
    }
   ],
   "source": [
    "visualizer.count_plot_for_variables(df,'race/ethnicity','test preparation course','bright')"
   ]
  },
  {
   "cell_type": "code",
   "execution_count": 32,
   "metadata": {},
   "outputs": [
    {
     "data": {
      "image/png": "[encoded data removed]",
      "text/plain": [
       "<Figure size 432x288 with 1 Axes>"
      ]
     },
     "metadata": {
      "needs_background": "light"
     },
     "output_type": "display_data"
    }
   ],
   "source": [
    "visualizer.count_plot_for_variables(df,'lunch','test preparation course','rocket')"
   ]
  },
  {
   "cell_type": "code",
   "execution_count": 33,
   "metadata": {},
   "outputs": [
    {
     "data": {
      "image/png": "[encoded data removed]",
      "text/plain": [
       "<Figure size 360x216 with 1 Axes>"
      ]
     },
     "metadata": {
      "needs_background": "light"
     },
     "output_type": "display_data"
    }
   ],
   "source": [
    "visualizer.Calculate_Marks_with_math_score(df)"
   ]
  },
  {
   "cell_type": "code",
   "execution_count": 34,
   "metadata": {},
   "outputs": [
    {
     "data": {
      "image/png": "[encoded data removed]",
      "text/plain": [
       "<Figure size 360x216 with 1 Axes>"
      ]
     },
     "metadata": {
      "needs_background": "light"
     },
     "output_type": "display_data"
    }
   ],
   "source": [
    "visualizer.Calculate_Marks_with_writing_score(df)"
   ]
  },
  {
   "cell_type": "code",
   "execution_count": 35,
   "metadata": {},
   "outputs": [
    {
     "data": {
      "image/png": "[encoded data removed]",
      "text/plain": [
       "<Figure size 360x216 with 1 Axes>"
      ]
     },
     "metadata": {
      "needs_background": "light"
     },
     "output_type": "display_data"
    }
   ],
   "source": [
    "visualizer.Calculate_Pass_Math_with_math_score(df)"
   ]
  },
  {
   "cell_type": "code",
   "execution_count": 36,
   "metadata": {},
   "outputs": [
    {
     "data": {
      "image/png": "[encoded data removed]",
      "text/plain": [
       "<Figure size 2880x576 with 1 Axes>"
      ]
     },
     "metadata": {
      "needs_background": "light"
     },
     "output_type": "display_data"
    }
   ],
   "source": [
    "visualizer.Calculate_total_Score_with_math_score(df)"
   ]
  },
  {
   "cell_type": "code",
   "execution_count": 37,
   "metadata": {},
   "outputs": [
    {
     "data": {
      "image/png": "[encoded data removed]",
      "text/plain": [
       "<Figure size 1152x576 with 1 Axes>"
      ]
     },
     "metadata": {
      "needs_background": "light"
     },
     "output_type": "display_data"
    }
   ],
   "source": [
    "visualizer.Calculate_percentage_with_total_Score(df)"
   ]
  },
  {
   "cell_type": "code",
   "execution_count": 38,
   "metadata": {},
   "outputs": [
    {
     "data": {
      "image/png": "[encoded data removed]",
      "text/plain": [
       "<Figure size 360x216 with 1 Axes>"
      ]
     },
     "metadata": {
      "needs_background": "light"
     },
     "output_type": "display_data"
    }
   ],
   "source": [
    "visualizer.Calculate_pass_reading_with_reading_score(df)"
   ]
  },
  {
   "cell_type": "code",
   "execution_count": 39,
   "metadata": {},
   "outputs": [
    {
     "data": {
      "image/png": "[encoded data removed]",
      "text/plain": [
       "<Figure size 216x216 with 1 Axes>"
      ]
     },
     "metadata": {
      "needs_background": "light"
     },
     "output_type": "display_data"
    }
   ],
   "source": [
    "visualizer.Calculate_status_with_pass_math_and_pass_writing(df)"
   ]
  },
  {
   "cell_type": "code",
   "execution_count": 40,
   "metadata": {},
   "outputs": [
    {
     "data": {
      "image/png": "[encoded data removed]",
      "text/plain": [
       "<Figure size 432x288 with 1 Axes>"
      ]
     },
     "metadata": {},
     "output_type": "display_data"
    }
   ],
   "source": [
    "visualizer.pie_chart()"
   ]
  },
  {
   "cell_type": "code",
   "execution_count": 41,
   "metadata": {},
   "outputs": [
    {
     "data": {
      "text/plain": [
       "B    260\n",
       "C    252\n",
       "D    223\n",
       "A    156\n",
       "O     58\n",
       "E     51\n",
       "Name: grades, dtype: int64"
      ]
     },
     "execution_count": 41,
     "metadata": {},
     "output_type": "execute_result"
    }
   ],
   "source": [
    "df['grades'] = df.apply(lambda x: visualizer.getgrade(x['percentage'], x['status']), axis = 1 )\n",
    "    \n",
    "df['grades'].value_counts()"
   ]
  },
  {
   "cell_type": "code",
   "execution_count": 42,
   "metadata": {},
   "outputs": [
    {
     "data": {
      "text/plain": [
       "<matplotlib.axes._subplots.AxesSubplot at 0x17e447e9a88>"
      ]
     },
     "execution_count": 42,
     "metadata": {},
     "output_type": "execute_result"
    },
    {
     "data": {
      "image/png": "[encoded data removed]",
      "text/plain": [
       "<Figure size 288x288 with 1 Axes>"
      ]
     },
     "metadata": {
      "needs_background": "light"
     },
     "output_type": "display_data"
    }
   ],
   "source": [
    "visualizer.cross_tab_with_stacked_bar_chart(df,df['parental level of education'],df['grades'])"
   ]
  },
  {
   "cell_type": "code",
   "execution_count": 43,
   "metadata": {},
   "outputs": [
    {
     "data": {
      "image/png": "[encoded data removed]",
      "text/plain": [
       "<Figure size 432x288 with 1 Axes>"
      ]
     },
     "metadata": {
      "needs_background": "light"
     },
     "output_type": "display_data"
    }
   ],
   "source": [
    "visualizer.count_plot_for_variables(df,'parental level of education','grades','dark')"
   ]
  },
  {
   "cell_type": "code",
   "execution_count": 44,
   "metadata": {},
   "outputs": [
    {
     "data": {
      "text/plain": [
       "3    319\n",
       "4    262\n",
       "2    190\n",
       "5    140\n",
       "1     89\n",
       "Name: race/ethnicity, dtype: int64"
      ]
     },
     "execution_count": 44,
     "metadata": {},
     "output_type": "execute_result"
    }
   ],
   "source": [
    "df['race/ethnicity'] = df['race/ethnicity'].replace('group A', 1)\n",
    "df['race/ethnicity'] = df['race/ethnicity'].replace('group B', 2)\n",
    "df['race/ethnicity'] = df['race/ethnicity'].replace('group C', 3)\n",
    "df['race/ethnicity'] = df['race/ethnicity'].replace('group D', 4)\n",
    "df['race/ethnicity'] = df['race/ethnicity'].replace('group E', 5)\n",
    "\n",
    "df['race/ethnicity'].value_counts()"
   ]
  },
  {
   "cell_type": "code",
   "execution_count": 45,
   "metadata": {},
   "outputs": [
    {
     "data": {
      "text/plain": [
       "3    319\n",
       "4    262\n",
       "2    190\n",
       "5    140\n",
       "1     89\n",
       "Name: race/ethnicity, dtype: int64"
      ]
     },
     "execution_count": 45,
     "metadata": {},
     "output_type": "execute_result"
    }
   ],
   "source": [
    "df['grades'] = df['grades'].replace('O', 0)\n",
    "df['grades'] = df['grades'].replace('A', 1)\n",
    "df['grades'] = df['grades'].replace('B', 2)\n",
    "df['grades'] = df['grades'].replace('C', 3)\n",
    "df['grades'] = df['grades'].replace('D', 4)\n",
    "df['grades'] = df['grades'].replace('E', 5)\n",
    "\n",
    "df['race/ethnicity'].value_counts()"
   ]
  },
  {
   "cell_type": "code",
   "execution_count": 47,
   "metadata": {},
   "outputs": [],
   "source": [
    "from sklearn.preprocessing import LabelEncoder\n",
    "from sklearn import preprocessing\n",
    "class Base_Feature_Engineering():\n",
    "\n",
    "    def __init__(self):\n",
    "        print(\"Feature Engineering object created\")\n",
    "    \n",
    "    def _Label_Encoding(self,data):\n",
    "        category_col =[var for var in data.columns if data[var].dtypes ==\"object\"] \n",
    "        labelEncoder = preprocessing.LabelEncoder()\n",
    "        mapping_dict={}\n",
    "        for col in category_col:\n",
    "            data[col] = labelEncoder.fit_transform(data[col])\n",
    "            le_name_mapping = dict(zip(labelEncoder.classes_, labelEncoder.transform(labelEncoder.classes_)))\n",
    "            mapping_dict[col]=le_name_mapping\n",
    "            return mapping_dict\n"
   ]
  },
  {
   "cell_type": "code",
   "execution_count": 48,
   "metadata": {},
   "outputs": [
    {
     "name": "stdout",
     "output_type": "stream",
     "text": [
      "Feature Engineering object created\n"
     ]
    }
   ],
   "source": [
    "fe = Base_Feature_Engineering()"
   ]
  },
  {
   "cell_type": "code",
   "execution_count": 58,
   "metadata": {},
   "outputs": [],
   "source": [
    "fe._Label_Encoding(df)"
   ]
  },
  {
   "cell_type": "code",
   "execution_count": 59,
   "metadata": {},
   "outputs": [],
   "source": [
    "from sklearn.model_selection import KFold, cross_val_score, train_test_split, GridSearchCV\n",
    "from sklearn.neighbors import KNeighborsClassifier\n",
    "from sklearn import metrics\n",
    "from sklearn.metrics import r2_score\n",
    "from sklearn.metrics import classification_report\n",
    "from sklearn.metrics import confusion_matrix\n",
    "from sklearn.linear_model import LogisticRegression\n",
    "from sklearn.ensemble import RandomForestClassifier\n",
    "from xgboost import XGBClassifier\n",
    "from sklearn.tree import DecisionTreeClassifier\n",
    "from sklearn.model_selection import train_test_split\n",
    "\n",
    "class Model_Selector():\n",
    "\n",
    "    def __init__(self,n_estimators=100,random_state=42,max_depth=10):\n",
    "        print(\"Model Selector object created\")\n",
    "        \n",
    "    def Regression_Model_Selector(self,df):\n",
    "        seed = 42\n",
    "        models = []\n",
    "        models.append((\"LR\", LogisticRegression()))\n",
    "        models.append((\"RF\", RandomForestClassifier()))\n",
    "        models.append((\"KNN\", KNeighborsClassifier()))\n",
    "        models.append((\"CART\", DecisionTreeClassifier()))\n",
    "        models.append((\"XGB\", XGBClassifier()))\n",
    "        result = []\n",
    "        names = []\n",
    "        scoring = 'accuracy'\n",
    "        seed = 42\n",
    "\n",
    "        for name, model in models:\n",
    "            x = df.drop(['grades'],axis=1)\n",
    "            y = df['grades']\n",
    "            x_train,x_test,y_train,y_test=train_test_split(x,y,test_size=0.30,random_state=42)\n",
    "            kfold = KFold(n_splits = 5, random_state =seed)# 5 split of data (value of k)\n",
    "            cv_results = cross_val_score(model, x_train, y_train, cv = kfold, scoring = scoring)\n",
    "            result.append(cv_results)\n",
    "            names.append(name)\n",
    "            msg = (name, cv_results.mean(), cv_results.std())\n",
    "            print(msg)\n",
    "        fig = plt.figure(figsize = (8,4))\n",
    "        fig.suptitle('Algorithm Comparison')\n",
    "        ax = fig.add_subplot(1,1,1)\n",
    "        plt.boxplot(result)\n",
    "        ax.set_xticklabels(names)\n",
    "        plt.show()"
   ]
  },
  {
   "cell_type": "code",
   "execution_count": 60,
   "metadata": {},
   "outputs": [
    {
     "name": "stdout",
     "output_type": "stream",
     "text": [
      "Model Selector object created\n"
     ]
    }
   ],
   "source": [
    "MS = Model_Selector()"
   ]
  },
  {
   "cell_type": "code",
   "execution_count": 61,
   "metadata": {},
   "outputs": [
    {
     "name": "stdout",
     "output_type": "stream",
     "text": [
      "('LR', 0.3728571428571429, 0.055217565971679115)\n",
      "('RF', 1.0, 0.0)\n",
      "('KNN', 0.9642857142857144, 0.019691498217271754)\n",
      "('CART', 1.0, 0.0)\n",
      "('XGB', 1.0, 0.0)\n"
     ]
    },
    {
     "data": {
      "image/png": "[encoded data removed]",
      "text/plain": [
       "<Figure size 576x288 with 1 Axes>"
      ]
     },
     "metadata": {
      "needs_background": "light"
     },
     "output_type": "display_data"
    }
   ],
   "source": [
    "MS.Regression_Model_Selector(df)"
   ]
  },
  {
   "cell_type": "code",
   "execution_count": 62,
   "metadata": {},
   "outputs": [],
   "source": [
    "from sklearn.metrics import accuracy_score\n",
    "x = df.drop(['grades'],axis=1)\n",
    "y = df['grades']\n",
    "x_train,x_test,y_train,y_test=train_test_split(x,y,test_size=0.30,random_state=42)\n",
    "class Data_Modelling():\n",
    "\n",
    "    def __init__(self,n_estimators=100,random_state=42,max_depth=10):\n",
    "        print(\"Data Modelling object created\")\n",
    "\n",
    "    def Decision_Tree_Model(self,df):\n",
    "        Classifier = DecisionTreeClassifier(random_state=29)\n",
    "        clf=Classifier.fit(x_train,y_train)\n",
    "        DT_pred=Classifier.predict(x_test)\n",
    "        print(\"confusion matrix\",confusion_matrix(y_test, DT_pred))\n",
    "        print(\"classification_report\",classification_report(y_test,DT_pred))\n",
    "        return accuracy_score(y_test,DT_pred)\n",
    "    \n",
    "    def Random_Forest_Model(self,df):\n",
    "        Classifier = RandomForestClassifier(n_estimators=100,random_state=29,max_depth=12)\n",
    "        clf=Classifier.fit(x_train,y_train)\n",
    "        RF_pred=Classifier.predict(x_test)\n",
    "        print(\"confusion matrix\",confusion_matrix(y_test, RF_pred))\n",
    "        print(\"classification_report\",classification_report(y_test,RF_pred))\n",
    "        return accuracy_score(y_test,RF_pred)\n",
    "\n",
    "    def Extreme_Gradient_Boosting_Model(self,df):\n",
    "        Classifier = XGBClassifier(n_estimators=100,random_state=29,max_depth=9,learning_rate=0.07)\n",
    "        clf=Classifier.fit(x_train,y_train)\n",
    "        XGB_pred=Classifier.predict(x_test)\n",
    "        print(\"confusion matrix\",confusion_matrix(y_test, XGB_pred))\n",
    "        print(\"classification_report\",classification_report(y_test,XGB_pred))\n",
    "        return accuracy_score(y_test,XGB_pred)\n"
   ]
  },
  {
   "cell_type": "code",
   "execution_count": 63,
   "metadata": {},
   "outputs": [
    {
     "name": "stdout",
     "output_type": "stream",
     "text": [
      "Data Modelling object created\n"
     ]
    }
   ],
   "source": [
    "model = Data_Modelling()"
   ]
  },
  {
   "cell_type": "code",
   "execution_count": 64,
   "metadata": {},
   "outputs": [
    {
     "name": "stdout",
     "output_type": "stream",
     "text": [
      "confusion matrix [[12  0  0  0  0  0]\n",
      " [ 0 44  0  0  0  0]\n",
      " [ 0  0 79  0  0  0]\n",
      " [ 0  0  0 73  0  0]\n",
      " [ 0  0  0  0 71  0]\n",
      " [ 0  0  0  0  0 21]]\n",
      "classification_report               precision    recall  f1-score   support\n",
      "\n",
      "           0       1.00      1.00      1.00        12\n",
      "           1       1.00      1.00      1.00        44\n",
      "           2       1.00      1.00      1.00        79\n",
      "           3       1.00      1.00      1.00        73\n",
      "           4       1.00      1.00      1.00        71\n",
      "           5       1.00      1.00      1.00        21\n",
      "\n",
      "    accuracy                           1.00       300\n",
      "   macro avg       1.00      1.00      1.00       300\n",
      "weighted avg       1.00      1.00      1.00       300\n",
      "\n"
     ]
    },
    {
     "data": {
      "text/plain": [
       "1.0"
      ]
     },
     "execution_count": 64,
     "metadata": {},
     "output_type": "execute_result"
    }
   ],
   "source": [
    "model.Decision_Tree_Model(df)"
   ]
  },
  {
   "cell_type": "code",
   "execution_count": 65,
   "metadata": {},
   "outputs": [
    {
     "name": "stdout",
     "output_type": "stream",
     "text": [
      "confusion matrix [[12  0  0  0  0  0]\n",
      " [ 0 44  0  0  0  0]\n",
      " [ 0  0 79  0  0  0]\n",
      " [ 0  0  0 73  0  0]\n",
      " [ 0  0  0  0 71  0]\n",
      " [ 0  0  0  0  0 21]]\n",
      "classification_report               precision    recall  f1-score   support\n",
      "\n",
      "           0       1.00      1.00      1.00        12\n",
      "           1       1.00      1.00      1.00        44\n",
      "           2       1.00      1.00      1.00        79\n",
      "           3       1.00      1.00      1.00        73\n",
      "           4       1.00      1.00      1.00        71\n",
      "           5       1.00      1.00      1.00        21\n",
      "\n",
      "    accuracy                           1.00       300\n",
      "   macro avg       1.00      1.00      1.00       300\n",
      "weighted avg       1.00      1.00      1.00       300\n",
      "\n"
     ]
    },
    {
     "data": {
      "text/plain": [
       "1.0"
      ]
     },
     "execution_count": 65,
     "metadata": {},
     "output_type": "execute_result"
    }
   ],
   "source": [
    "model.Random_Forest_Model(df)"
   ]
  },
  {
   "cell_type": "code",
   "execution_count": 66,
   "metadata": {},
   "outputs": [
    {
     "name": "stdout",
     "output_type": "stream",
     "text": [
      "confusion matrix [[12  0  0  0  0  0]\n",
      " [ 0 44  0  0  0  0]\n",
      " [ 0  0 79  0  0  0]\n",
      " [ 0  0  0 73  0  0]\n",
      " [ 0  0  0  0 71  0]\n",
      " [ 0  0  0  0  0 21]]\n",
      "classification_report               precision    recall  f1-score   support\n",
      "\n",
      "           0       1.00      1.00      1.00        12\n",
      "           1       1.00      1.00      1.00        44\n",
      "           2       1.00      1.00      1.00        79\n",
      "           3       1.00      1.00      1.00        73\n",
      "           4       1.00      1.00      1.00        71\n",
      "           5       1.00      1.00      1.00        21\n",
      "\n",
      "    accuracy                           1.00       300\n",
      "   macro avg       1.00      1.00      1.00       300\n",
      "weighted avg       1.00      1.00      1.00       300\n",
      "\n"
     ]
    },
    {
     "data": {
      "text/plain": [
       "1.0"
      ]
     },
     "execution_count": 66,
     "metadata": {},
     "output_type": "execute_result"
    }
   ],
   "source": [
    "model.Extreme_Gradient_Boosting_Model(df)"
   ]
  },
  {
   "cell_type": "code",
   "execution_count": null,
   "metadata": {},
   "outputs": [],
   "source": []
  },
  {
   "cell_type": "code",
   "execution_count": null,
   "metadata": {},
   "outputs": [],
   "source": []
  }
 ],
 "metadata": {
  "kernelspec": {
   "display_name": "Python 3",
   "language": "python",
   "name": "python3"
  },
  "language_info": {
   "codemirror_mode": {
    "name": "ipython",
    "version": 3
   },
   "file_extension": ".py",
   "mimetype": "text/x-python",
   "name": "python",
   "nbconvert_exporter": "python",
   "pygments_lexer": "ipython3",
   "version": "3.7.7"
  }
 },
 "nbformat": 4,
 "nbformat_minor": 4
}
